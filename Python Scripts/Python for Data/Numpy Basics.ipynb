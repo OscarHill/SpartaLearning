{
 "cells": [
  {
   "cell_type": "markdown",
   "id": "a6b1699b-fe3e-479e-b42e-b86312edd7e6",
   "metadata": {},
   "source": [
    "# Numpy\n",
    "\n",
    "Numpy is a library which provides support for large, homogenous, multi-dimensional arrays and matrices."
   ]
  },
  {
   "cell_type": "code",
   "execution_count": 4,
   "id": "de6c6ae3-1ab3-449c-9af9-08a992de9ad8",
   "metadata": {},
   "outputs": [],
   "source": [
    "# import numpy\n",
    "import numpy as np"
   ]
  },
  {
   "cell_type": "markdown",
   "id": "5e4defd2-7887-4496-9e14-5cfdb6b53fb6",
   "metadata": {},
   "source": [
    "## Creating Arrays in Numpy"
   ]
  },
  {
   "cell_type": "markdown",
   "id": "d6c5d8f8-3455-494e-b955-6a948cabb98c",
   "metadata": {},
   "source": [
    "### Creating an array from a list"
   ]
  },
  {
   "cell_type": "code",
   "execution_count": 2,
   "id": "f55b0274-e0eb-42f5-b9be-ff41ac46a3c0",
   "metadata": {},
   "outputs": [
    {
     "data": {
      "text/plain": [
       "[10, 20, 30]"
      ]
     },
     "execution_count": 2,
     "metadata": {},
     "output_type": "execute_result"
    }
   ],
   "source": [
    "list1 = [10, 20, 30]\n",
    "list1"
   ]
  },
  {
   "cell_type": "code",
   "execution_count": 6,
   "id": "b7ebde8c-0af5-4faa-a0dd-c448c0796301",
   "metadata": {},
   "outputs": [
    {
     "data": {
      "text/plain": [
       "array([20, 40, 60])"
      ]
     },
     "execution_count": 6,
     "metadata": {},
     "output_type": "execute_result"
    }
   ],
   "source": [
    "arr1 = np.array(list1)\n",
    "arr1"
   ]
  },
  {
   "cell_type": "code",
   "execution_count": 7,
   "id": "cdb61d0f-9f8c-4d47-98f1-c1b7fa07cf68",
   "metadata": {},
   "outputs": [
    {
     "data": {
      "text/plain": [
       "numpy.ndarray"
      ]
     },
     "execution_count": 7,
     "metadata": {},
     "output_type": "execute_result"
    }
   ],
   "source": [
    "type(arr1)"
   ]
  },
  {
   "cell_type": "markdown",
   "id": "8dcfcc19-a899-4fe0-a2f3-33f5e132d9d8",
   "metadata": {},
   "source": [
    "### Using arange to create an array\n",
    "\n",
    "The difference between array() and arange() is that array() takes in a list and turns it into an array, whereas arange creates an array from a range of numbers."
   ]
  },
  {
   "cell_type": "code",
   "execution_count": 9,
   "id": "fae8a70d-6b28-4d29-9e2d-769742f58caf",
   "metadata": {},
   "outputs": [
    {
     "data": {
      "text/plain": [
       "array([10, 11, 12, 13, 14, 15, 16, 17, 18, 19])"
      ]
     },
     "execution_count": 9,
     "metadata": {},
     "output_type": "execute_result"
    }
   ],
   "source": [
    "arr2 = np.arange(10, 20, 1) # Start, Stop, Step\n",
    "arr2"
   ]
  },
  {
   "cell_type": "markdown",
   "id": "735a379b-1c82-43cc-a1cb-336efbe8602a",
   "metadata": {},
   "source": [
    "## Multidimensional arrays\n",
    "\n",
    "### Combining two list - Two-dimensional arrays\n",
    "\n",
    "When we combine array stogether, we can add dimensions. Combining two arrays gives us a 2d array!\n",
    "\n",
    "This creates a matrix for us on which we can perform matrix operations."
   ]
  },
  {
   "cell_type": "code",
   "execution_count": 12,
   "id": "399ce791-ecbf-415c-bd77-ae51741947c7",
   "metadata": {},
   "outputs": [
    {
     "data": {
      "text/plain": [
       "array([[10, 20, 30],\n",
       "       [40, 50, 60]])"
      ]
     },
     "execution_count": 12,
     "metadata": {},
     "output_type": "execute_result"
    }
   ],
   "source": [
    "# Let's create a new list to join onto the first list\n",
    "list2 = [40, 50, 60]\n",
    "\n",
    "# Join the lists\n",
    "list3 = [list1, list2]\n",
    "\n",
    "# Create an array out of the joined lists\n",
    "arr3 = np.array(list3)\n",
    "arr3"
   ]
  },
  {
   "cell_type": "code",
   "execution_count": 14,
   "id": "ac8434fa-b489-41ef-9f04-379992ba2a3d",
   "metadata": {},
   "outputs": [
    {
     "data": {
      "text/plain": [
       "(2, 3)"
      ]
     },
     "execution_count": 14,
     "metadata": {},
     "output_type": "execute_result"
    }
   ],
   "source": [
    "# Let's find the shape of that array\n",
    "# We have a 2d array with 2 elemnts in the first instance and 3 in the second\n",
    "arr3.shape"
   ]
  },
  {
   "cell_type": "markdown",
   "id": "ebf3e1c2-6c5d-45cb-937d-26e2008394f0",
   "metadata": {},
   "source": [
    "### Three-dimensional arrays"
   ]
  },
  {
   "cell_type": "code",
   "execution_count": null,
   "id": "8e21532c-69e4-4c92-9c3b-e9d5178c12d4",
   "metadata": {},
   "outputs": [],
   "source": []
  }
 ],
 "metadata": {
  "kernelspec": {
   "display_name": "Python 3 (ipykernel)",
   "language": "python",
   "name": "python3"
  },
  "language_info": {
   "codemirror_mode": {
    "name": "ipython",
    "version": 3
   },
   "file_extension": ".py",
   "mimetype": "text/x-python",
   "name": "python",
   "nbconvert_exporter": "python",
   "pygments_lexer": "ipython3",
   "version": "3.9.1"
  }
 },
 "nbformat": 4,
 "nbformat_minor": 5
}
