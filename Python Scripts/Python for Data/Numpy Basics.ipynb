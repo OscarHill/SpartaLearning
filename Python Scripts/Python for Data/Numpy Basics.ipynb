{
 "cells": [
  {
   "cell_type": "markdown",
   "id": "a6b1699b-fe3e-479e-b42e-b86312edd7e6",
   "metadata": {},
   "source": [
    "# Numpy\n",
    "\n",
    "Numpy is a library which provides support for large, homogenous, multi-dimensional arrays and matrices."
   ]
  },
  {
   "cell_type": "code",
   "execution_count": 4,
   "id": "de6c6ae3-1ab3-449c-9af9-08a992de9ad8",
   "metadata": {},
   "outputs": [],
   "source": [
    "# import numpy\n",
    "import numpy as np"
   ]
  },
  {
   "cell_type": "markdown",
   "id": "5e4defd2-7887-4496-9e14-5cfdb6b53fb6",
   "metadata": {},
   "source": [
    "## Creating Arrays in Numpy"
   ]
  },
  {
   "cell_type": "markdown",
   "id": "d6c5d8f8-3455-494e-b955-6a948cabb98c",
   "metadata": {},
   "source": [
    "### Creating an array from a list"
   ]
  },
  {
   "cell_type": "code",
   "execution_count": 2,
   "id": "f55b0274-e0eb-42f5-b9be-ff41ac46a3c0",
   "metadata": {},
   "outputs": [
    {
     "data": {
      "text/plain": [
       "[10, 20, 30]"
      ]
     },
     "execution_count": 2,
     "metadata": {},
     "output_type": "execute_result"
    }
   ],
   "source": [
    "list1 = [10, 20, 30]\n",
    "list1"
   ]
  },
  {
   "cell_type": "code",
   "execution_count": 6,
   "id": "b7ebde8c-0af5-4faa-a0dd-c448c0796301",
   "metadata": {},
   "outputs": [
    {
     "data": {
      "text/plain": [
       "array([20, 40, 60])"
      ]
     },
     "execution_count": 6,
     "metadata": {},
     "output_type": "execute_result"
    }
   ],
   "source": [
    "arr1 = np.array(list1)\n",
    "arr1"
   ]
  },
  {
   "cell_type": "code",
   "execution_count": 7,
   "id": "cdb61d0f-9f8c-4d47-98f1-c1b7fa07cf68",
   "metadata": {},
   "outputs": [
    {
     "data": {
      "text/plain": [
       "numpy.ndarray"
      ]
     },
     "execution_count": 7,
     "metadata": {},
     "output_type": "execute_result"
    }
   ],
   "source": [
    "type(arr1)"
   ]
  },
  {
   "cell_type": "markdown",
   "id": "8dcfcc19-a899-4fe0-a2f3-33f5e132d9d8",
   "metadata": {},
   "source": [
    "### Using arange to create an array\n",
    "\n",
    "The difference between array() and arange() is that array() takes in a list and turns it into an array, whereas arange creates an array from a range of numbers."
   ]
  },
  {
   "cell_type": "code",
   "execution_count": 9,
   "id": "fae8a70d-6b28-4d29-9e2d-769742f58caf",
   "metadata": {},
   "outputs": [
    {
     "data": {
      "text/plain": [
       "array([10, 11, 12, 13, 14, 15, 16, 17, 18, 19])"
      ]
     },
     "execution_count": 9,
     "metadata": {},
     "output_type": "execute_result"
    }
   ],
   "source": [
    "arr2 = np.arange(10, 20, 1) # Start, Stop, Step\n",
    "arr2"
   ]
  },
  {
   "cell_type": "markdown",
   "id": "735a379b-1c82-43cc-a1cb-336efbe8602a",
   "metadata": {},
   "source": [
    "## Multidimensional arrays\n",
    "\n",
    "### Combining two list - Two-dimensional arrays\n",
    "\n",
    "When we combine array stogether, we can add dimensions. Combining two arrays gives us a 2d array!\n",
    "\n",
    "This creates a matrix for us on which we can perform matrix operations."
   ]
  },
  {
   "cell_type": "code",
   "execution_count": 12,
   "id": "399ce791-ecbf-415c-bd77-ae51741947c7",
   "metadata": {},
   "outputs": [
    {
     "data": {
      "text/plain": [
       "array([[10, 20, 30],\n",
       "       [40, 50, 60]])"
      ]
     },
     "execution_count": 12,
     "metadata": {},
     "output_type": "execute_result"
    }
   ],
   "source": [
    "# Let's create a new list to join onto the first list\n",
    "list2 = [40, 50, 60]\n",
    "\n",
    "# Join the lists\n",
    "list3 = [list1, list2]\n",
    "\n",
    "# Create an array out of the joined lists\n",
    "arr3 = np.array(list3)\n",
    "arr3"
   ]
  },
  {
   "cell_type": "code",
   "execution_count": 14,
   "id": "ac8434fa-b489-41ef-9f04-379992ba2a3d",
   "metadata": {},
   "outputs": [
    {
     "data": {
      "text/plain": [
       "(2, 3)"
      ]
     },
     "execution_count": 14,
     "metadata": {},
     "output_type": "execute_result"
    }
   ],
   "source": [
    "# Let's find the shape of that array\n",
    "# We have a 2d array with 2 elemnts in the first instance and 3 in the second\n",
    "arr3.shape"
   ]
  },
  {
   "cell_type": "markdown",
   "id": "ebf3e1c2-6c5d-45cb-937d-26e2008394f0",
   "metadata": {},
   "source": [
    "### Three-dimensional arrays"
   ]
  },
  {
   "cell_type": "code",
   "execution_count": 21,
   "id": "8e21532c-69e4-4c92-9c3b-e9d5178c12d4",
   "metadata": {},
   "outputs": [
    {
     "data": {
      "text/plain": [
       "array([[[1, 2, 3],\n",
       "        [3, 4, 5]],\n",
       "\n",
       "       [[5, 6, 7],\n",
       "        [7, 8, 9]]])"
      ]
     },
     "execution_count": 21,
     "metadata": {},
     "output_type": "execute_result"
    }
   ],
   "source": [
    "arr3dim = np.array(\n",
    "    [[[1,2,3],[3,4,5]],[[5,6,7],[7,8,9]]]\n",
    "      )\n",
    "arr3dim"
   ]
  },
  {
   "cell_type": "code",
   "execution_count": 25,
   "id": "9a8f1ab3-54f6-4e50-a0f7-286940cd6815",
   "metadata": {},
   "outputs": [
    {
     "data": {
      "text/plain": [
       "(2, 2, 3)"
      ]
     },
     "execution_count": 25,
     "metadata": {},
     "output_type": "execute_result"
    }
   ],
   "source": [
    "arr3dim.shape"
   ]
  },
  {
   "cell_type": "markdown",
   "id": "314b147f-5e91-47db-bf89-0d764c1e94d4",
   "metadata": {},
   "source": [
    "## Using Arrays and Scalars\n",
    "\n",
    "Numpy arrays (or ndarray) allow us to perform matrix operations."
   ]
  },
  {
   "cell_type": "code",
   "execution_count": 29,
   "id": "4e1ea193-1ab0-4615-ba0f-8edbefa6170d",
   "metadata": {},
   "outputs": [
    {
     "data": {
      "text/plain": [
       "array([[[ 3,  6,  9],\n",
       "        [ 9, 12, 15]],\n",
       "\n",
       "       [[15, 18, 21],\n",
       "        [21, 24, 27]]])"
      ]
     },
     "execution_count": 29,
     "metadata": {},
     "output_type": "execute_result"
    }
   ],
   "source": [
    "# For example, we can use simple multiplication\n",
    "arr3dim * 3"
   ]
  },
  {
   "cell_type": "code",
   "execution_count": 32,
   "id": "37a98e2c-5e8e-43bf-9804-c1504f9c264c",
   "metadata": {},
   "outputs": [
    {
     "data": {
      "text/plain": [
       "array([ 400, 1000, 1800])"
      ]
     },
     "execution_count": 32,
     "metadata": {},
     "output_type": "execute_result"
    }
   ],
   "source": [
    "# We can actually multiply an array with another array!\n",
    "\n",
    "# Create a new array with the same size as arr1\n",
    "arr11 = np.array(list2)\n",
    "\n",
    "#Multiply the arrays, what will happen?\n",
    "arr1 * arr11"
   ]
  },
  {
   "cell_type": "markdown",
   "id": "b2c9809e-249f-4969-80ef-878f134037c3",
   "metadata": {},
   "source": [
    "&#x2757; &#x2757; &#x2757; Important: you cannot multiply arrays of different shapes.\n",
    "\n",
    "You can however multiply ararys of different dimensions:"
   ]
  },
  {
   "cell_type": "code",
   "execution_count": 35,
   "id": "88fc8801-34cd-49dd-86d3-6e436444c7f7",
   "metadata": {},
   "outputs": [
    {
     "data": {
      "text/plain": [
       "array([[[ 10,  40,  90],\n",
       "        [ 30,  80, 150]],\n",
       "\n",
       "       [[ 50, 120, 210],\n",
       "        [ 70, 160, 270]]])"
      ]
     },
     "execution_count": 35,
     "metadata": {},
     "output_type": "execute_result"
    }
   ],
   "source": [
    "arr1 * arr3dim"
   ]
  },
  {
   "cell_type": "markdown",
   "id": "89264731-8bf5-4b08-8143-39ca7711fe85",
   "metadata": {},
   "source": [
    "Below are some exercises:\n",
    "\n",
    "Create ndarrays of the following sizes:\n",
    "One dimensional array with 12 elements (12,)\n",
    "Two dimensional array size (3, 4)\n",
    "Three dimensional array size (2, 5, 4)\n",
    "Check the size of your ndarray to ensure it is correct"
   ]
  },
  {
   "cell_type": "code",
   "execution_count": 40,
   "id": "83f3a5e4-2c80-4528-929b-b3e29a98ce28",
   "metadata": {},
   "outputs": [
    {
     "data": {
      "text/plain": [
       "array([ 0,  1,  2,  3,  4,  5,  6,  7,  8,  9, 10, 11])"
      ]
     },
     "execution_count": 40,
     "metadata": {},
     "output_type": "execute_result"
    }
   ],
   "source": [
    "oned_array = np.arange(0,12)\n",
    "oned_array"
   ]
  },
  {
   "cell_type": "code",
   "execution_count": 42,
   "id": "123401c9-14f4-4ba7-981c-ec825d017dda",
   "metadata": {},
   "outputs": [
    {
     "data": {
      "text/plain": [
       "array([[1., 1., 1., 1.],\n",
       "       [1., 1., 1., 1.],\n",
       "       [1., 1., 1., 1.]])"
      ]
     },
     "execution_count": 42,
     "metadata": {},
     "output_type": "execute_result"
    }
   ],
   "source": [
    "twod_array = numpy.ones((3,4))\n",
    "twod_array"
   ]
  },
  {
   "cell_type": "code",
   "execution_count": 50,
   "id": "ed0ed1ed-eea0-47c4-9e79-9bbff9c7fddc",
   "metadata": {},
   "outputs": [
    {
     "data": {
      "text/plain": [
       "array([[[0., 0., 0., 0.],\n",
       "        [0., 0., 0., 0.],\n",
       "        [0., 0., 0., 0.],\n",
       "        [0., 0., 0., 0.],\n",
       "        [0., 0., 0., 0.]],\n",
       "\n",
       "       [[0., 0., 0., 0.],\n",
       "        [0., 0., 0., 0.],\n",
       "        [0., 0., 0., 0.],\n",
       "        [0., 0., 0., 0.],\n",
       "        [0., 0., 0., 0.]]])"
      ]
     },
     "execution_count": 50,
     "metadata": {},
     "output_type": "execute_result"
    }
   ],
   "source": [
    "threed_array = numpy.zeros((2,5,4))\n",
    "threed_array"
   ]
  },
  {
   "cell_type": "markdown",
   "id": "c4baaafd-3d02-4267-9c97-aae63d6edef5",
   "metadata": {},
   "source": [
    "### Accessing the values inside ndarrays\n",
    "\n",
    "Let's take arr3 as our example, this was a 2d array. "
   ]
  },
  {
   "cell_type": "code",
   "execution_count": 51,
   "id": "324bbf86-a16c-4d8a-905b-2e2e5f6f3c0b",
   "metadata": {},
   "outputs": [
    {
     "data": {
      "text/plain": [
       "array([[10, 20, 30],\n",
       "       [40, 50, 60]])"
      ]
     },
     "execution_count": 51,
     "metadata": {},
     "output_type": "execute_result"
    }
   ],
   "source": [
    "# How can we access the 60?\n",
    "arr3"
   ]
  },
  {
   "cell_type": "code",
   "execution_count": 54,
   "id": "e3159a7b-9b98-4682-a3a8-c4f21a38f314",
   "metadata": {},
   "outputs": [
    {
     "data": {
      "text/plain": [
       "np.int64(60)"
      ]
     },
     "execution_count": 54,
     "metadata": {},
     "output_type": "execute_result"
    }
   ],
   "source": [
    "arr3[1,2]"
   ]
  },
  {
   "cell_type": "code",
   "execution_count": 55,
   "id": "b316c6cc-aa23-45a0-b3ac-9fd7fa7dd1ff",
   "metadata": {},
   "outputs": [
    {
     "data": {
      "text/plain": [
       "array([40, 50, 60])"
      ]
     },
     "execution_count": 55,
     "metadata": {},
     "output_type": "execute_result"
    }
   ],
   "source": [
    "# How can I get the bottom \"row\" of this ndarray?\n",
    "arr3[1]"
   ]
  },
  {
   "cell_type": "code",
   "execution_count": 61,
   "id": "58a9a2de-6d0a-474a-83d8-e3332cd86b14",
   "metadata": {},
   "outputs": [
    {
     "data": {
      "text/plain": [
       "array([30, 60])"
      ]
     },
     "execution_count": 61,
     "metadata": {},
     "output_type": "execute_result"
    }
   ],
   "source": [
    "# How about the last column?\n",
    "arr3[:,2]"
   ]
  },
  {
   "cell_type": "markdown",
   "id": "36f25fb3-a818-4f71-adaf-593f2480eeda",
   "metadata": {},
   "source": [
    "### Statistical functions and arrays\n",
    "\n",
    "There are a number of builtin statistical functions we can use with numpy"
   ]
  },
  {
   "cell_type": "code",
   "execution_count": 73,
   "id": "f67402de-1e66-4bc4-b157-c0279861120a",
   "metadata": {},
   "outputs": [
    {
     "data": {
      "text/plain": [
       "np.int64(210)"
      ]
     },
     "execution_count": 73,
     "metadata": {},
     "output_type": "execute_result"
    }
   ],
   "source": [
    "# Finding the sum of all values\n",
    "arr3.sum()"
   ]
  },
  {
   "cell_type": "code",
   "execution_count": 64,
   "id": "7b5fd1e7-d501-4388-b480-2a9097b94b16",
   "metadata": {},
   "outputs": [
    {
     "data": {
      "text/plain": [
       "array([50, 70, 90])"
      ]
     },
     "execution_count": 64,
     "metadata": {},
     "output_type": "execute_result"
    }
   ],
   "source": [
    "arr3.sum(0)"
   ]
  },
  {
   "cell_type": "code",
   "execution_count": 67,
   "id": "53938177-a5d3-40d0-9006-3f75e3a45c59",
   "metadata": {},
   "outputs": [
    {
     "data": {
      "text/plain": [
       "array([ 60, 150])"
      ]
     },
     "execution_count": 67,
     "metadata": {},
     "output_type": "execute_result"
    }
   ],
   "source": [
    "arr3.sum(1)"
   ]
  },
  {
   "cell_type": "code",
   "execution_count": 70,
   "id": "5f897809-4110-4195-9f54-759d023bef4a",
   "metadata": {},
   "outputs": [
    {
     "data": {
      "text/plain": [
       "np.float64(35.0)"
      ]
     },
     "execution_count": 70,
     "metadata": {},
     "output_type": "execute_result"
    }
   ],
   "source": [
    "# Finding the mean\n",
    "arr3.mean()"
   ]
  },
  {
   "cell_type": "code",
   "execution_count": 71,
   "id": "aef6fab2-db3f-4c50-8f01-4eb14bf7ccce",
   "metadata": {},
   "outputs": [
    {
     "data": {
      "text/plain": [
       "np.float64(17.07825127659933)"
      ]
     },
     "execution_count": 71,
     "metadata": {},
     "output_type": "execute_result"
    }
   ],
   "source": [
    "# Finding Standard Deviation\n",
    "arr3.std()"
   ]
  },
  {
   "cell_type": "markdown",
   "id": "5c3c2177-7c60-4061-81f3-3ebe77826090",
   "metadata": {},
   "source": [
    "### Iterating through ndarrays\n",
    "\n",
    "Simplest way is to use a simple loop"
   ]
  },
  {
   "cell_type": "code",
   "execution_count": 74,
   "id": "4f055959-2a42-4d1c-917f-b2cb21d3cb92",
   "metadata": {},
   "outputs": [
    {
     "name": "stdout",
     "output_type": "stream",
     "text": [
      "10\n",
      "20\n",
      "30\n"
     ]
    }
   ],
   "source": [
    "# For a 1d array\n",
    "for x in arr1:\n",
    "    print(x)"
   ]
  },
  {
   "cell_type": "code",
   "execution_count": 76,
   "id": "fe23f258-50c0-4d9a-b890-e52bdd191fb9",
   "metadata": {},
   "outputs": [
    {
     "name": "stdout",
     "output_type": "stream",
     "text": [
      "10\n",
      "20\n",
      "30\n",
      "40\n",
      "50\n",
      "60\n"
     ]
    }
   ],
   "source": [
    "# How about for an n-dimensional array? Use nested loops\n",
    "for dim in arr3:\n",
    "    for num in dim:\n",
    "         print(num)"
   ]
  },
  {
   "cell_type": "code",
   "execution_count": 77,
   "id": "ced68cc0-befe-490d-8914-0ce76187274a",
   "metadata": {},
   "outputs": [
    {
     "name": "stdout",
     "output_type": "stream",
     "text": [
      "10\n",
      "20\n",
      "30\n",
      "40\n",
      "50\n",
      "60\n"
     ]
    }
   ],
   "source": [
    "# There is another way! we can use nditer\n",
    "# This can be used in simple scenarios, but also very complex ones\n",
    "# It tensd to be much cleaner for nested loops\n",
    "for x in np.nditer(arr3):\n",
    "    print(x)"
   ]
  },
  {
   "cell_type": "markdown",
   "id": "3385c382-40ca-4a38-a017-ea7a8a8779af",
   "metadata": {},
   "source": [
    "### Saving and loading in numpy"
   ]
  },
  {
   "cell_type": "code",
   "execution_count": 78,
   "id": "f09d3cb4-e873-4347-8ad0-91aba0b13b16",
   "metadata": {},
   "outputs": [],
   "source": [
    "# To save an array as a file\n",
    "np.save(\"new\", arr3)"
   ]
  },
  {
   "cell_type": "code",
   "execution_count": 79,
   "id": "372d3301-b5d0-4036-b826-e29b88381f69",
   "metadata": {},
   "outputs": [
    {
     "data": {
      "text/plain": [
       "array([[10, 20, 30],\n",
       "       [40, 50, 60]])"
      ]
     },
     "execution_count": 79,
     "metadata": {},
     "output_type": "execute_result"
    }
   ],
   "source": [
    "# load the file\n",
    "np.load(\"new.npy\")"
   ]
  },
  {
   "cell_type": "code",
   "execution_count": 80,
   "id": "e47ff090-611a-4714-ace5-9969e00e11b7",
   "metadata": {},
   "outputs": [],
   "source": [
    "# Saving as a txt\n",
    "np.savetxt(\"new.txt\", arr3, delimiter=\",\")"
   ]
  },
  {
   "cell_type": "code",
   "execution_count": null,
   "id": "06c4bd4e-1d88-4523-b241-9514346a2c7a",
   "metadata": {},
   "outputs": [],
   "source": []
  }
 ],
 "metadata": {
  "kernelspec": {
   "display_name": "Python 3 (ipykernel)",
   "language": "python",
   "name": "python3"
  },
  "language_info": {
   "codemirror_mode": {
    "name": "ipython",
    "version": 3
   },
   "file_extension": ".py",
   "mimetype": "text/x-python",
   "name": "python",
   "nbconvert_exporter": "python",
   "pygments_lexer": "ipython3",
   "version": "3.9.1"
  }
 },
 "nbformat": 4,
 "nbformat_minor": 5
}
